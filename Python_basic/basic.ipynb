{
 "nbformat": 4,
 "nbformat_minor": 0,
 "metadata": {
  "colab": {
   "provenance": []
  },
  "kernelspec": {
   "name": "python3",
   "language": "python",
   "display_name": "Python 3 (ipykernel)"
  },
  "language_info": {
   "name": "python"
  }
 },
 "cells": [
  {
   "cell_type": "markdown",
   "source": [
    "# 1. F1-score"
   ],
   "metadata": {
    "id": "6y4ln3UbB8-M"
   }
  },
  {
   "cell_type": "code",
   "source": [
    "def f1_score(tp, fp, fn):\n",
    "  # Check condition\n",
    "  # Condition 1\n",
    "  if not isinstance(tp, int):\n",
    "    print(\"tp must be int\")\n",
    "    raise TypeError\n",
    "  if not isinstance(fp, int):\n",
    "    print(\"fp must be int\")\n",
    "    raise TypeError\n",
    "  if not isinstance(fn, int):\n",
    "    print(\"fn must be int\")\n",
    "    raise TypeError\n",
    "  # Condition 2\n",
    "  if tp <= 0 or fp <= 0 or fn <= 0:\n",
    "    print(\"tp and fp and fn must be greater than zero\")\n",
    "    raise ValueError\n",
    "\n",
    "  # Calculation\n",
    "  precision = tp/(tp+fp)\n",
    "  recall = tp/(tp+fn)\n",
    "  f1 = 2*precision*recall/(precision+recall)\n",
    "\n",
    "  # Print results\n",
    "  print(\"precision is \", precision)\n",
    "  print(\"recall is \", recall)\n",
    "  print(\"f1-score is \", f1)"
   ],
   "metadata": {
    "id": "sNW6WRZ0CDIA",
    "ExecuteTime": {
     "end_time": "2025-01-12T13:25:59.227804800Z",
     "start_time": "2025-01-12T13:25:59.194330500Z"
    }
   },
   "execution_count": 1,
   "outputs": []
  },
  {
   "cell_type": "code",
   "source": [
    "f1_score( tp =2 , fp =3 , fn =4)"
   ],
   "metadata": {
    "colab": {
     "base_uri": "https://localhost:8080/"
    },
    "id": "CrgDcx9NCDFN",
    "outputId": "9cc82fca-92e3-436a-8440-4f2e012350bb",
    "ExecuteTime": {
     "end_time": "2025-01-12T13:25:59.227804800Z",
     "start_time": "2025-01-12T13:25:59.211262300Z"
    }
   },
   "execution_count": 2,
   "outputs": [
    {
     "name": "stdout",
     "output_type": "stream",
     "text": [
      "precision is  0.4\n",
      "recall is  0.3333333333333333\n",
      "f1-score is  0.3636363636363636\n"
     ]
    }
   ]
  },
  {
   "cell_type": "markdown",
   "source": [
    "# 2. Activation function"
   ],
   "metadata": {
    "id": "0nqx88FTCDCX"
   }
  },
  {
   "cell_type": "code",
   "source": [
    "# activation fuction\n",
    "import math\n",
    "def sigmoid(x):\n",
    "  e = math.e\n",
    "  return 1/(1+e**(-x))\n",
    "\n",
    "def relu(x):\n",
    "  if x <= 0:\n",
    "    return 0\n",
    "  else:\n",
    "    return x\n",
    "\n",
    "def elu(x):\n",
    "  e = math.e\n",
    "  if x <= 0:\n",
    "    return 0.01*(e**(x)-1)\n",
    "  else:\n",
    "    return x\n",
    "\n",
    "def activation_function():\n",
    "  x = input(\"Input x = \")\n",
    "  def is_number ( n ) :\n",
    "    try :\n",
    "      float ( n ) # Type - casting the string to ‘float ‘.\n",
    "      # If string is not a valid ‘float ‘ ,\n",
    "      # it ’ll raise ‘ValueError ‘ exception\n",
    "    except ValueError :\n",
    "      return False\n",
    "    return True\n",
    "\n",
    "  if is_number(x) == False:\n",
    "    print(\"x must be a number\")\n",
    "  else:\n",
    "    x = float(x)\n",
    "    type_func = input(\"Input activation Function ( sigmoid | relu | elu ) : \")\n",
    "\n",
    "    if type_func == \"sigmoid\":\n",
    "      result = sigmoid(x)\n",
    "      print(f\"{type_func}: f({x}) = {result}\")\n",
    "    elif type_func == \"relu\":\n",
    "      result = relu(x)\n",
    "      print(f\"{type_func}: f({x}) = {result}\")\n",
    "    elif type_func == \"elu\":\n",
    "      result = elu(x)\n",
    "      print(f\"{type_func}: f({x}) = {result}\")\n",
    "    else:\n",
    "      print(f\"{type_func} is not supportted\")"
   ],
   "metadata": {
    "id": "9LlQO4zYCC_g",
    "ExecuteTime": {
     "end_time": "2025-01-12T13:25:59.244288700Z",
     "start_time": "2025-01-12T13:25:59.227804800Z"
    }
   },
   "execution_count": 3,
   "outputs": []
  },
  {
   "cell_type": "code",
   "source": [
    "activation_function()"
   ],
   "metadata": {
    "colab": {
     "base_uri": "https://localhost:8080/"
    },
    "id": "Kq1P4_JTCC8q",
    "outputId": "71aa6cd9-395b-4231-92d0-1e57f8430bf2",
    "ExecuteTime": {
     "end_time": "2025-01-12T13:26:11.743070600Z",
     "start_time": "2025-01-12T13:25:59.244288700Z"
    }
   },
   "execution_count": 4,
   "outputs": [
    {
     "name": "stdout",
     "output_type": "stream",
     "text": [
      "relu: f(5.0) = 5.0\n"
     ]
    }
   ]
  },
  {
   "cell_type": "code",
   "source": [
    "activation_function()"
   ],
   "metadata": {
    "colab": {
     "base_uri": "https://localhost:8080/"
    },
    "id": "ZUe-yBe6CC6B",
    "outputId": "d98c53d4-4da1-4b79-9f1a-9c2787a7f0ff",
    "ExecuteTime": {
     "end_time": "2025-01-12T13:26:16.541081300Z",
     "start_time": "2025-01-12T13:26:11.712876800Z"
    }
   },
   "execution_count": 5,
   "outputs": [
    {
     "name": "stdout",
     "output_type": "stream",
     "text": [
      "relu: f(5.0) = 5.0\n"
     ]
    }
   ]
  },
  {
   "cell_type": "code",
   "source": [
    "activation_function()"
   ],
   "metadata": {
    "colab": {
     "base_uri": "https://localhost:8080/"
    },
    "id": "SZVou2OnCC26",
    "outputId": "2f2e3583-89d2-4ad5-ee96-8cd681cf9f56",
    "ExecuteTime": {
     "end_time": "2025-01-12T13:26:20.947434300Z",
     "start_time": "2025-01-12T13:26:16.541081300Z"
    }
   },
   "execution_count": 6,
   "outputs": [
    {
     "name": "stdout",
     "output_type": "stream",
     "text": [
      "elu: f(5.0) = 5.0\n"
     ]
    }
   ]
  },
  {
   "cell_type": "markdown",
   "source": [
    "# 3. Regression loss function"
   ],
   "metadata": {
    "id": "U5XhXWsECCzQ"
   }
  },
  {
   "cell_type": "code",
   "source": [
    "import math\n",
    "\n",
    "def calculate_metrics(type_loss, y_true, y_pred):\n",
    "  if type_loss == \"MSE\":\n",
    "    return cal_mse(y_pred, y_true)\n",
    "  elif type_loss == \"RMSE\":\n",
    "    return cal_rmse(y_pred, y_true)\n",
    "  elif type_loss == \"MAE\":\n",
    "    return cal_mae(y_pred, y_true)\n",
    "  else:\n",
    "    raise ValueError(\"Invalid loss type:\", type_loss)\n",
    "\n",
    "def cal_mse(y_pred, y_true):\n",
    "  return (y_true - y_pred)**2\n",
    "\n",
    "def cal_rmse(y_pred, y_true):\n",
    "  mse = cal_mse(y_pred, y_true)\n",
    "  return math.sqrt(mse)\n",
    "\n",
    "def cal_mae(y_pred, y_true):\n",
    "  return abs(y_true - y_pred)"
   ],
   "metadata": {
    "id": "FZ2wirZMm17d",
    "ExecuteTime": {
     "end_time": "2025-01-12T13:26:20.967055900Z",
     "start_time": "2025-01-12T13:26:20.946386700Z"
    }
   },
   "execution_count": 7,
   "outputs": []
  },
  {
   "cell_type": "code",
   "source": [
    "import math\n",
    "import random\n",
    "\n",
    "def regression_loss():\n",
    "  x = input(\"Input number of samples ( integer number ) which are generated : \")\n",
    "  def is_number ( n ) :\n",
    "    try :\n",
    "      float ( n ) # Type - casting the string to ‘float ‘.\n",
    "      # If string is not a valid ‘float ‘ ,\n",
    "      # it ’ll raise ‘ValueError ‘ exception\n",
    "    except ValueError :\n",
    "      return False\n",
    "    return True\n",
    "\n",
    "  if is_number(x) == False:\n",
    "    print(\"Number of samples must be an integer number\")\n",
    "    raise ValueError\n",
    "  x = int(x)\n",
    "  type_loss = input(\"Input loss name : \")\n",
    "\n",
    "  # Calculation:\n",
    "\n",
    "  for i in range(x):\n",
    "    y_pred = random.uniform(0, 10)\n",
    "    y_true = random.uniform(0, 10)\n",
    "\n",
    "    loss = calculate_metrics(type_loss, y_true, y_pred)\n",
    "    print(f\"loss name: {type_loss}, sample: {i}, pred: {y_pred}, target: {y_true}, loss: {loss}\")\n",
    "\n",
    "\n"
   ],
   "metadata": {
    "id": "pRB7C94dCCwZ",
    "ExecuteTime": {
     "end_time": "2025-01-12T13:26:21.007694100Z",
     "start_time": "2025-01-12T13:26:20.962977700Z"
    }
   },
   "execution_count": 8,
   "outputs": []
  },
  {
   "cell_type": "code",
   "source": [
    "regression_loss()"
   ],
   "metadata": {
    "colab": {
     "base_uri": "https://localhost:8080/"
    },
    "id": "cQeNUbcBjy3F",
    "outputId": "ad62600f-cb4c-4bf6-8f22-6226554bb130",
    "ExecuteTime": {
     "end_time": "2025-01-12T13:26:26.690300800Z",
     "start_time": "2025-01-12T13:26:20.977313200Z"
    }
   },
   "execution_count": 9,
   "outputs": [
    {
     "ename": "ValueError",
     "evalue": "('Invalid loss type:', 'mse')",
     "output_type": "error",
     "traceback": [
      "\u001B[1;31m---------------------------------------------------------------------------\u001B[0m",
      "\u001B[1;31mValueError\u001B[0m                                Traceback (most recent call last)",
      "Cell \u001B[1;32mIn[9], line 1\u001B[0m\n\u001B[1;32m----> 1\u001B[0m \u001B[43mregression_loss\u001B[49m\u001B[43m(\u001B[49m\u001B[43m)\u001B[49m\n",
      "Cell \u001B[1;32mIn[8], line 27\u001B[0m, in \u001B[0;36mregression_loss\u001B[1;34m()\u001B[0m\n\u001B[0;32m     24\u001B[0m y_pred \u001B[38;5;241m=\u001B[39m random\u001B[38;5;241m.\u001B[39muniform(\u001B[38;5;241m0\u001B[39m, \u001B[38;5;241m10\u001B[39m)\n\u001B[0;32m     25\u001B[0m y_true \u001B[38;5;241m=\u001B[39m random\u001B[38;5;241m.\u001B[39muniform(\u001B[38;5;241m0\u001B[39m, \u001B[38;5;241m10\u001B[39m)\n\u001B[1;32m---> 27\u001B[0m loss \u001B[38;5;241m=\u001B[39m \u001B[43mcalculate_metrics\u001B[49m\u001B[43m(\u001B[49m\u001B[43mtype_loss\u001B[49m\u001B[43m,\u001B[49m\u001B[43m \u001B[49m\u001B[43my_true\u001B[49m\u001B[43m,\u001B[49m\u001B[43m \u001B[49m\u001B[43my_pred\u001B[49m\u001B[43m)\u001B[49m\n\u001B[0;32m     28\u001B[0m \u001B[38;5;28mprint\u001B[39m(\u001B[38;5;124mf\u001B[39m\u001B[38;5;124m\"\u001B[39m\u001B[38;5;124mloss name: \u001B[39m\u001B[38;5;132;01m{\u001B[39;00mtype_loss\u001B[38;5;132;01m}\u001B[39;00m\u001B[38;5;124m, sample: \u001B[39m\u001B[38;5;132;01m{\u001B[39;00mi\u001B[38;5;132;01m}\u001B[39;00m\u001B[38;5;124m, pred: \u001B[39m\u001B[38;5;132;01m{\u001B[39;00my_pred\u001B[38;5;132;01m}\u001B[39;00m\u001B[38;5;124m, target: \u001B[39m\u001B[38;5;132;01m{\u001B[39;00my_true\u001B[38;5;132;01m}\u001B[39;00m\u001B[38;5;124m, loss: \u001B[39m\u001B[38;5;132;01m{\u001B[39;00mloss\u001B[38;5;132;01m}\u001B[39;00m\u001B[38;5;124m\"\u001B[39m)\n",
      "Cell \u001B[1;32mIn[7], line 11\u001B[0m, in \u001B[0;36mcalculate_metrics\u001B[1;34m(type_loss, y_true, y_pred)\u001B[0m\n\u001B[0;32m      9\u001B[0m   \u001B[38;5;28;01mreturn\u001B[39;00m cal_mae(y_pred, y_true)\n\u001B[0;32m     10\u001B[0m \u001B[38;5;28;01melse\u001B[39;00m:\n\u001B[1;32m---> 11\u001B[0m   \u001B[38;5;28;01mraise\u001B[39;00m \u001B[38;5;167;01mValueError\u001B[39;00m(\u001B[38;5;124m\"\u001B[39m\u001B[38;5;124mInvalid loss type:\u001B[39m\u001B[38;5;124m\"\u001B[39m, type_loss)\n",
      "\u001B[1;31mValueError\u001B[0m: ('Invalid loss type:', 'mse')"
     ]
    }
   ]
  },
  {
   "cell_type": "markdown",
   "source": [
    "# 4. Geometric function"
   ],
   "metadata": {
    "id": "XXL40Rqdjyzy"
   }
  },
  {
   "cell_type": "code",
   "source": [
    "# factorial\n",
    "def factorial(n):\n",
    "  if n < 0:\n",
    "    raise ValueError(\"Factorial is not defined for negative numbers.\")\n",
    "  result = 1\n",
    "  for i in range(1, n + 1):\n",
    "    result *= i\n",
    "  return result\n",
    "\n",
    "# Calculation\n",
    "\n",
    "def approx_sin(x, n):\n",
    "  sum = 0\n",
    "  for i in range(n):\n",
    "    sum += (-1)**i * x**(2*i+1) / factorial(2*i+1)\n",
    "  return sum\n",
    "\n",
    "def approx_cos(x, n):\n",
    "  sum = 0\n",
    "  for i in range(n):\n",
    "    sum += (-1)**i * x**(2*i) / factorial(2*i)\n",
    "  return sum\n",
    "\n",
    "def approx_sinh(x, n):\n",
    "  sum = 0\n",
    "  for i in range(n):\n",
    "    sum += x**(2*i+1) / factorial(2*i+1)\n",
    "  return sum\n",
    "\n",
    "def approx_cosh(x, n):\n",
    "  sum = 0\n",
    "  for i in range(n):\n",
    "    sum += x**(2*i) / factorial(2*i)\n",
    "  return sum"
   ],
   "metadata": {
    "id": "E6c13Y3bjyxT",
    "ExecuteTime": {
     "end_time": "2025-01-12T13:26:41.321268400Z",
     "start_time": "2025-01-12T13:26:41.288581300Z"
    }
   },
   "execution_count": 10,
   "outputs": []
  },
  {
   "cell_type": "code",
   "source": [
    "approx_sin ( x =1 , n =10)"
   ],
   "metadata": {
    "colab": {
     "base_uri": "https://localhost:8080/"
    },
    "id": "8Gmu1TLjjyuw",
    "outputId": "0fe8c798-072b-4346-c64b-340634c252c9",
    "ExecuteTime": {
     "end_time": "2025-01-12T13:26:44.020597800Z",
     "start_time": "2025-01-12T13:26:44.004937800Z"
    }
   },
   "execution_count": 11,
   "outputs": [
    {
     "data": {
      "text/plain": "0.8414709848078965"
     },
     "execution_count": 11,
     "metadata": {},
     "output_type": "execute_result"
    }
   ]
  },
  {
   "cell_type": "code",
   "source": [
    "approx_cos ( x =3.14 , n =10)"
   ],
   "metadata": {
    "colab": {
     "base_uri": "https://localhost:8080/"
    },
    "id": "zQVoBcpnjyr4",
    "outputId": "6c2a9029-99c8-4630-f78b-31747d13b6ed",
    "ExecuteTime": {
     "end_time": "2025-01-12T13:26:45.586941500Z",
     "start_time": "2025-01-12T13:26:45.572779700Z"
    }
   },
   "execution_count": 12,
   "outputs": [
    {
     "data": {
      "text/plain": "-0.9999987352210833"
     },
     "execution_count": 12,
     "metadata": {},
     "output_type": "execute_result"
    }
   ]
  },
  {
   "cell_type": "code",
   "source": [
    "approx_sinh ( x =3.14 , n =10)"
   ],
   "metadata": {
    "colab": {
     "base_uri": "https://localhost:8080/"
    },
    "id": "9p3INV8ijypJ",
    "outputId": "fa75d9c4-ca22-40b4-e6eb-4e33410dc561",
    "ExecuteTime": {
     "end_time": "2025-01-12T13:26:47.337918Z",
     "start_time": "2025-01-12T13:26:47.274283Z"
    }
   },
   "execution_count": 13,
   "outputs": [
    {
     "data": {
      "text/plain": "11.530292029865986"
     },
     "execution_count": 13,
     "metadata": {},
     "output_type": "execute_result"
    }
   ]
  },
  {
   "cell_type": "code",
   "source": [
    "approx_cosh ( x =1 , n =10)"
   ],
   "metadata": {
    "colab": {
     "base_uri": "https://localhost:8080/"
    },
    "id": "eGNrgtsevXvn",
    "outputId": "4ac947b5-c4c1-4f6c-e143-d299cb0839f5",
    "ExecuteTime": {
     "end_time": "2025-01-12T13:26:49.186993800Z",
     "start_time": "2025-01-12T13:26:49.170166400Z"
    }
   },
   "execution_count": 14,
   "outputs": [
    {
     "data": {
      "text/plain": "1.543080634815244"
     },
     "execution_count": 14,
     "metadata": {},
     "output_type": "execute_result"
    }
   ]
  },
  {
   "cell_type": "markdown",
   "source": [
    "# 5. Mean Difference"
   ],
   "metadata": {
    "id": "2EPDczg2vXso"
   }
  },
  {
   "cell_type": "code",
   "source": [
    "def md_nre_single_sample(y, y_hat, n, p):\n",
    "  return (y ** (1/n) - y_hat ** (1/n))**p"
   ],
   "metadata": {
    "id": "svoLzKxXvXp7",
    "ExecuteTime": {
     "end_time": "2025-01-12T13:26:50.686849200Z",
     "start_time": "2025-01-12T13:26:50.654437300Z"
    }
   },
   "execution_count": 15,
   "outputs": []
  },
  {
   "cell_type": "code",
   "source": [
    "md_nre_single_sample ( y =100 , y_hat =99.5 , n =2 , p =1)"
   ],
   "metadata": {
    "colab": {
     "base_uri": "https://localhost:8080/"
    },
    "id": "vz-gr2l6vXnM",
    "outputId": "898b4e5b-2984-4b3b-9c9f-fb0010a7cf46",
    "ExecuteTime": {
     "end_time": "2025-01-12T13:26:52.919343300Z",
     "start_time": "2025-01-12T13:26:52.902574400Z"
    }
   },
   "execution_count": 16,
   "outputs": [
    {
     "data": {
      "text/plain": "0.025031328369998107"
     },
     "execution_count": 16,
     "metadata": {},
     "output_type": "execute_result"
    }
   ]
  },
  {
   "cell_type": "code",
   "source": [
    "md_nre_single_sample ( y =50 , y_hat =49.5 , n =2 , p =1)"
   ],
   "metadata": {
    "colab": {
     "base_uri": "https://localhost:8080/"
    },
    "id": "rCfcb2nNxZM4",
    "outputId": "4cd39e80-98ac-47fa-c021-d36a2e2c239b",
    "ExecuteTime": {
     "end_time": "2025-01-12T13:26:54.519802500Z",
     "start_time": "2025-01-12T13:26:54.469215700Z"
    }
   },
   "execution_count": 17,
   "outputs": [
    {
     "data": {
      "text/plain": "0.03544417213033135"
     },
     "execution_count": 17,
     "metadata": {},
     "output_type": "execute_result"
    }
   ]
  },
  {
   "cell_type": "code",
   "source": [
    "md_nre_single_sample ( y =20 , y_hat =19.5 , n =2 , p =1)"
   ],
   "metadata": {
    "colab": {
     "base_uri": "https://localhost:8080/"
    },
    "id": "SUgD9KjdxZKS",
    "outputId": "81ff8a37-e168-47b7-ca56-7db1d8ba8889",
    "ExecuteTime": {
     "end_time": "2025-01-12T13:26:56.453123900Z",
     "start_time": "2025-01-12T13:26:56.419476500Z"
    }
   },
   "execution_count": 18,
   "outputs": [
    {
     "data": {
      "text/plain": "0.05625552183565574"
     },
     "execution_count": 18,
     "metadata": {},
     "output_type": "execute_result"
    }
   ]
  },
  {
   "cell_type": "code",
   "source": [
    "md_nre_single_sample ( y =0.6 , y_hat =0.1 , n =2 , p =1)"
   ],
   "metadata": {
    "colab": {
     "base_uri": "https://localhost:8080/"
    },
    "id": "eTSlek4MxZHt",
    "outputId": "3d553dac-7738-43d1-8ef2-fe282a738868",
    "ExecuteTime": {
     "end_time": "2025-01-12T13:26:58.385934900Z",
     "start_time": "2025-01-12T13:26:58.369126Z"
    }
   },
   "execution_count": 19,
   "outputs": [
    {
     "data": {
      "text/plain": "0.45836890322464546"
     },
     "execution_count": 19,
     "metadata": {},
     "output_type": "execute_result"
    }
   ]
  }
 ]
}
