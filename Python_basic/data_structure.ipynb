{
 "cells": [
  {
   "cell_type": "markdown",
   "source": [
    "<div align=\"center\"> <h1><font size=\"14\">Cấu trúc dữ liệu cơ bản trong data</font></h1> </div>"
   ],
   "metadata": {
    "collapsed": false
   }
  },
  {
   "cell_type": "markdown",
   "source": [
    "# 1. Dạng danh sách (list)\n",
    "List được dùng để lưu các biến lại thành một danh sách\n",
    "Ví dụ: list[biến 1, biến 2,...,biến n] # các biến được cách nhau bởi dấu phẩy (,)"
   ],
   "metadata": {
    "collapsed": false
   }
  },
  {
   "cell_type": "code",
   "execution_count": 23,
   "outputs": [
    {
     "name": "stdout",
     "output_type": "stream",
     "text": [
      "[4, 5, 6, 7, 8, 9]\n",
      "<class 'list'>\n",
      "6\n"
     ]
    }
   ],
   "source": [
    "# Tạo một list trong Python\n",
    "data = [4, 5, 6, 7, 8, 9]\n",
    "print(data) # in ra list\n",
    "print(type(data)) # in ra loại biến\n",
    "print(len(data)) # in ra xem trong list có bao nhiêu phần tử"
   ],
   "metadata": {
    "collapsed": false,
    "ExecuteTime": {
     "end_time": "2025-01-12T14:20:20.327457700Z",
     "start_time": "2025-01-12T14:20:20.306866600Z"
    }
   }
  },
  {
   "cell_type": "code",
   "execution_count": 24,
   "outputs": [],
   "source": [
    "# Ngoài số thì trong list có thể chứa bất kỳ các loại biến khác hoặc rỗng\n",
    "\n",
    "# Tạo list rỗng\n",
    "empty_list = []\n",
    "\n",
    "# List gồm nhiều loại dữ liệu khác nhau\n",
    "mixed_list = [True, 5, 'biến dạng chữ', 123.45]\n",
    "\n",
    "# Hoặc một list ở trong một list khác\n",
    "n_list = [1, [2, 3, 4], 5]"
   ],
   "metadata": {
    "collapsed": false,
    "ExecuteTime": {
     "end_time": "2025-01-12T14:20:20.349961600Z",
     "start_time": "2025-01-12T14:20:20.323437800Z"
    }
   }
  },
  {
   "cell_type": "markdown",
   "source": [
    "## 1.1. Index\n",
    "Index dùng để chỉ số thứ tự các biến trong list, số thứ tự bắt đầu từ 0"
   ],
   "metadata": {
    "collapsed": false
   }
  },
  {
   "cell_type": "code",
   "execution_count": 25,
   "outputs": [
    {
     "name": "stdout",
     "output_type": "stream",
     "text": [
      "4\n",
      "7\n",
      "9\n",
      "9\n"
     ]
    }
   ],
   "source": [
    "# Ví dụ:\n",
    "data = [4, 5, 6, 7, 8, 9]\n",
    "# In ra phần tử đầu tiên:\n",
    "print(data[0])\n",
    "# In ra phần tử thứ tư:\n",
    "print(data[3])\n",
    "# In ra phần tử cuối cùng:\n",
    "print(data[5])\n",
    "# hoặc\n",
    "print(data[-1])"
   ],
   "metadata": {
    "collapsed": false,
    "ExecuteTime": {
     "end_time": "2025-01-12T14:20:20.355961800Z",
     "start_time": "2025-01-12T14:20:20.338963100Z"
    }
   }
  },
  {
   "cell_type": "code",
   "execution_count": 26,
   "outputs": [
    {
     "name": "stdout",
     "output_type": "stream",
     "text": [
      "[4, 5, 6]\n",
      "[6, 7]\n",
      "[7, 8, 9]\n",
      "[4, 6, 8]\n"
     ]
    }
   ],
   "source": [
    "# Có thể cắt ra 1 list mới từ list cũ theo mẫu list[start:end:step]\n",
    "# In ra list gồm 3 phần tử đầu\n",
    "print(data[:3])\n",
    "# In ra list gồm phần tử thứ 2 và thứ 3\n",
    "print(data[2:4])\n",
    "# In ra list từ phần tử thứ 4 đến hết\n",
    "print(data[3:])\n",
    "# In toàn bộ list với step = 2\n",
    "print(data[::2])"
   ],
   "metadata": {
    "collapsed": false,
    "ExecuteTime": {
     "end_time": "2025-01-12T14:20:20.369744300Z",
     "start_time": "2025-01-12T14:20:20.354961600Z"
    }
   }
  },
  {
   "cell_type": "markdown",
   "source": [
    "## 1.2. Thêm và chèn phần tử trong list\n",
    "Thêm phần tử vào list dùng lệnh .append(phần tử cần thêm) còn chèn phần tử thì dùng lệnh .insert(index vị trí muốn chèn, phần tử cần chèn)"
   ],
   "metadata": {
    "collapsed": false
   }
  },
  {
   "cell_type": "code",
   "execution_count": 27,
   "outputs": [
    {
     "name": "stdout",
     "output_type": "stream",
     "text": [
      "[4, 5, 6, 7, 8, 9]\n",
      "[4, 5, 6, 7, 8, 9, 5]\n"
     ]
    }
   ],
   "source": [
    "# Thêm 5 vào cuối list data\n",
    "print(data)\n",
    "data.append(5)\n",
    "print(data)"
   ],
   "metadata": {
    "collapsed": false,
    "ExecuteTime": {
     "end_time": "2025-01-12T14:20:20.413163800Z",
     "start_time": "2025-01-12T14:20:20.370761900Z"
    }
   }
  },
  {
   "cell_type": "code",
   "execution_count": 28,
   "outputs": [
    {
     "name": "stdout",
     "output_type": "stream",
     "text": [
      "[4, 5, 6, 7, 8, 9, 5]\n",
      "[4, 3, 5, 6, 7, 8, 9, 5]\n"
     ]
    }
   ],
   "source": [
    "# Chèn 3 vào vị trí có index = 1\n",
    "print(data)\n",
    "data.insert(1, 3)\n",
    "print(data)"
   ],
   "metadata": {
    "collapsed": false,
    "ExecuteTime": {
     "end_time": "2025-01-12T14:20:20.414146900Z",
     "start_time": "2025-01-12T14:20:20.385004200Z"
    }
   }
  },
  {
   "cell_type": "markdown",
   "source": [
    "## 1.3. Các thao tác khác"
   ],
   "metadata": {
    "collapsed": false
   }
  },
  {
   "cell_type": "code",
   "execution_count": 44,
   "outputs": [
    {
     "name": "stdout",
     "output_type": "stream",
     "text": [
      "[1, 2, 3]\n",
      "[1, 2, 3, 4, 5, 6]\n",
      "[1, 2, 3, 4, 5, 6]\n"
     ]
    }
   ],
   "source": [
    "# Ghép 2 list với nhau. Dùng lệnh .extend(list cần ghép)\n",
    "list_1 = [1, 2, 3]\n",
    "print(list_1)\n",
    "list_2 = [4, 5, 6]\n",
    "list_1.extend(list_2)\n",
    "print(list_1)\n",
    "\n",
    "# hoặc\n",
    "list_1 = [1, 2, 3]\n",
    "list_2 = [4, 5, 6]\n",
    "print(list_1+list_2)"
   ],
   "metadata": {
    "collapsed": false,
    "ExecuteTime": {
     "end_time": "2025-01-12T14:54:58.709549300Z",
     "start_time": "2025-01-12T14:54:58.688958800Z"
    }
   }
  },
  {
   "cell_type": "code",
   "execution_count": 32,
   "outputs": [
    {
     "name": "stdout",
     "output_type": "stream",
     "text": [
      "[5, 2, 3, 4, 5, 6]\n"
     ]
    }
   ],
   "source": [
    "# Thay đổi 1 phần tử trong list\n",
    "list_1[0] = 5 # 0 là index phần tử cần đổi\n",
    "print(list_1)"
   ],
   "metadata": {
    "collapsed": false,
    "ExecuteTime": {
     "end_time": "2025-01-12T14:25:44.564663600Z",
     "start_time": "2025-01-12T14:25:44.552464800Z"
    }
   }
  },
  {
   "cell_type": "code",
   "execution_count": 35,
   "outputs": [
    {
     "name": "stdout",
     "output_type": "stream",
     "text": [
      "[1, 2, 3, 4, 5]\n",
      "[1, 2, 4, 5]\n",
      "[1, 4, 5]\n"
     ]
    }
   ],
   "source": [
    "# Xóa 1 phần tử trong list\n",
    "list_3 = [1, 2, 3, 4, 5]\n",
    "print(list_3)\n",
    "# xóa phần tử có index = 2\n",
    "list_3.pop(2)\n",
    "print(list_3)\n",
    "# Xóa phần tử đầu tiên có giá trị = 2\n",
    "list_3.remove(2)\n",
    "print(list_3)"
   ],
   "metadata": {
    "collapsed": false,
    "ExecuteTime": {
     "end_time": "2025-01-12T14:39:20.245526900Z",
     "start_time": "2025-01-12T14:39:20.232888500Z"
    }
   }
  },
  {
   "cell_type": "code",
   "execution_count": 36,
   "outputs": [
    {
     "name": "stdout",
     "output_type": "stream",
     "text": [
      "[1, 2, 3, 4, 5]\n",
      "[1, 4, 5]\n"
     ]
    }
   ],
   "source": [
    "# Xóa nhiều phần tử trong list\n",
    "list_4 = [1, 2, 3, 4, 5]\n",
    "print(list_4)\n",
    "# Xóa phần tử thứ 2 và 3\n",
    "del list_4[1:3]\n",
    "print(list_4)"
   ],
   "metadata": {
    "collapsed": false,
    "ExecuteTime": {
     "end_time": "2025-01-12T14:42:01.435157300Z",
     "start_time": "2025-01-12T14:42:01.424599100Z"
    }
   }
  },
  {
   "cell_type": "code",
   "execution_count": 38,
   "outputs": [
    {
     "name": "stdout",
     "output_type": "stream",
     "text": [
      "1\n",
      "[5, 4, 3, 5, 1]\n"
     ]
    }
   ],
   "source": [
    "# Tìm index\n",
    "list_5 = [1, 5, 3, 4, 5]\n",
    "# trả về index phần tử đầu tiên có giá trị là 5:\n",
    "print(list_5.index(5))\n",
    "\n",
    "# Đảo ngược list\n",
    "list_5.reverse()\n",
    "print(list_5)"
   ],
   "metadata": {
    "collapsed": false,
    "ExecuteTime": {
     "end_time": "2025-01-12T14:49:27.505215100Z",
     "start_time": "2025-01-12T14:49:27.490553500Z"
    }
   }
  },
  {
   "cell_type": "code",
   "execution_count": 40,
   "outputs": [
    {
     "name": "stdout",
     "output_type": "stream",
     "text": [
      "3\n",
      "[1, 2, 2, 3, 3, 3, 4, 6]\n"
     ]
    }
   ],
   "source": [
    "# Đếm số phàn tử có cùng giá trị\n",
    "list_6 = [1, 2, 2, 3, 3, 3, 4, 6]\n",
    "# Đếm số lượng phần tử có giá trị bằng 3\n",
    "print(list_6.count(3))\n",
    "# Copy list\n",
    "list_7 = list_6.copy()\n",
    "print(list_7)"
   ],
   "metadata": {
    "collapsed": false,
    "ExecuteTime": {
     "end_time": "2025-01-12T14:52:06.978770700Z",
     "start_time": "2025-01-12T14:52:06.971021Z"
    }
   }
  },
  {
   "cell_type": "code",
   "execution_count": 42,
   "outputs": [
    {
     "name": "stdout",
     "output_type": "stream",
     "text": [
      "[1, 2, 5, 6, 7, 9]\n",
      "[9, 7, 6, 5, 2, 1]\n"
     ]
    }
   ],
   "source": [
    "# Sắp xếp theo thứ tự nhỏ đến lớn\n",
    "data = [6, 5, 7, 1, 9, 2]\n",
    "data.sort()\n",
    "print(data)\n",
    "# Sắp xếp theo thứ tự lớn đến nhỏ\n",
    "data = [6, 5, 7, 1, 9, 2]\n",
    "data.sort(reverse=True)\n",
    "print(data)"
   ],
   "metadata": {
    "collapsed": false,
    "ExecuteTime": {
     "end_time": "2025-01-12T14:54:09.206125600Z",
     "start_time": "2025-01-12T14:54:09.193136700Z"
    }
   }
  },
  {
   "cell_type": "code",
   "execution_count": 45,
   "outputs": [
    {
     "name": "stdout",
     "output_type": "stream",
     "text": [
      "[5, 6, 5, 6, 5, 6]\n"
     ]
    }
   ],
   "source": [
    "# Duplicate list\n",
    "data = [5, 6]\n",
    "print(data*3)"
   ],
   "metadata": {
    "collapsed": false,
    "ExecuteTime": {
     "end_time": "2025-01-12T14:55:27.270686600Z",
     "start_time": "2025-01-12T14:55:27.247607300Z"
    }
   }
  },
  {
   "cell_type": "markdown",
   "source": [
    "# 2. Các hàm có sẵn trong python (Built-in function)"
   ],
   "metadata": {
    "collapsed": false
   }
  },
  {
   "cell_type": "code",
   "execution_count": 46,
   "outputs": [
    {
     "name": "stdout",
     "output_type": "stream",
     "text": [
      "6\n"
     ]
    }
   ],
   "source": [
    "# Đếm số lượng phần tử trong list\n",
    "data = [6, 5, 7, 1, 9, 2]\n",
    "print(len(data))"
   ],
   "metadata": {
    "collapsed": false,
    "ExecuteTime": {
     "end_time": "2025-01-12T15:04:33.732434900Z",
     "start_time": "2025-01-12T15:04:33.723434100Z"
    }
   }
  },
  {
   "cell_type": "code",
   "execution_count": 47,
   "outputs": [
    {
     "name": "stdout",
     "output_type": "stream",
     "text": [
      "9\n",
      "1\n"
     ]
    }
   ],
   "source": [
    "# Tìm giá trị lớn nhất và nhỏ nhất\n",
    "print(max(data))\n",
    "print(min(data))"
   ],
   "metadata": {
    "collapsed": false,
    "ExecuteTime": {
     "end_time": "2025-01-12T15:05:47.787213800Z",
     "start_time": "2025-01-12T15:05:47.777214Z"
    }
   }
  },
  {
   "cell_type": "code",
   "execution_count": 48,
   "outputs": [
    {
     "name": "stdout",
     "output_type": "stream",
     "text": [
      "30\n"
     ]
    }
   ],
   "source": [
    "# Tính tổng các phần tử\n",
    "print(sum(data))"
   ],
   "metadata": {
    "collapsed": false,
    "ExecuteTime": {
     "end_time": "2025-01-12T15:06:13.215757800Z",
     "start_time": "2025-01-12T15:06:13.204610700Z"
    }
   }
  },
  {
   "cell_type": "code",
   "execution_count": 49,
   "outputs": [
    {
     "name": "stdout",
     "output_type": "stream",
     "text": [
      "1 5\n",
      "2 6\n",
      "3 7\n"
     ]
    }
   ],
   "source": [
    "# Lấy từng cặp tương ứng của 2 list\n",
    "data1 = [1, 2, 3]\n",
    "data2 = [5, 6, 7]\n",
    "for num1, num2 in zip(data1, data2):\n",
    "    print(num1, num2)"
   ],
   "metadata": {
    "collapsed": false,
    "ExecuteTime": {
     "end_time": "2025-01-12T15:11:07.372211400Z",
     "start_time": "2025-01-12T15:11:07.350889700Z"
    }
   }
  },
  {
   "cell_type": "code",
   "execution_count": 50,
   "outputs": [
    {
     "name": "stdout",
     "output_type": "stream",
     "text": [
      "0 1\n",
      "1 2\n",
      "2 3\n"
     ]
    }
   ],
   "source": [
    "# Trả về index và giá trị của list\n",
    "for index, value in enumerate(data1):\n",
    "    print(index, value)"
   ],
   "metadata": {
    "collapsed": false,
    "ExecuteTime": {
     "end_time": "2025-01-12T15:15:36.504218200Z",
     "start_time": "2025-01-12T15:15:36.487725900Z"
    }
   }
  },
  {
   "cell_type": "code",
   "execution_count": 28,
   "outputs": [],
   "source": [
    "# BTVN: tính tổng các số chẵn và các số lẻ có trong chuỗi"
   ],
   "metadata": {
    "collapsed": false,
    "ExecuteTime": {
     "end_time": "2025-01-12T14:20:20.514946500Z",
     "start_time": "2025-01-12T14:20:20.494943400Z"
    }
   }
  },
  {
   "cell_type": "code",
   "execution_count": null,
   "outputs": [],
   "source": [],
   "metadata": {
    "collapsed": false
   }
  },
  {
   "cell_type": "code",
   "execution_count": null,
   "outputs": [],
   "source": [],
   "metadata": {
    "collapsed": false
   }
  },
  {
   "cell_type": "code",
   "execution_count": null,
   "outputs": [],
   "source": [],
   "metadata": {
    "collapsed": false
   }
  },
  {
   "cell_type": "code",
   "execution_count": null,
   "outputs": [],
   "source": [],
   "metadata": {
    "collapsed": false
   }
  }
 ],
 "metadata": {
  "kernelspec": {
   "display_name": "Python 3",
   "language": "python",
   "name": "python3"
  },
  "language_info": {
   "codemirror_mode": {
    "name": "ipython",
    "version": 2
   },
   "file_extension": ".py",
   "mimetype": "text/x-python",
   "name": "python",
   "nbconvert_exporter": "python",
   "pygments_lexer": "ipython2",
   "version": "2.7.6"
  }
 },
 "nbformat": 4,
 "nbformat_minor": 0
}
